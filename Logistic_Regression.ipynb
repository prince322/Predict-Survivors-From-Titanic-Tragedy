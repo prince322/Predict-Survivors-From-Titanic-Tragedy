{
 "cells": [
  {
   "cell_type": "code",
   "execution_count": 1,
   "metadata": {},
   "outputs": [],
   "source": [
    "def sigmoid(x):\n",
    "    y=1/(1+np.exp(-x))\n",
    "    return y"
   ]
  },
  {
   "cell_type": "code",
   "execution_count": 2,
   "metadata": {},
   "outputs": [],
   "source": [
    "def step_grad(data,m,lr_rate):\n",
    "    n=data.shape\n",
    "    m_slope=np.zeros(n[1])\n",
    "    x=data[:,:6]\n",
    "    c=np.ones(n[0])\n",
    "    x=np.insert(x,6,c,axis=1)\n",
    "    y=data[:,6]\n",
    "    for i in range(n[1]):\n",
    "        linear=np.dot(x,m)\n",
    "        y_pred=sigmoid(linear)\n",
    "        x_c=x[:,i]\n",
    "        m_slope[i]=(-1/n[0])*((y-y_pred)*x_c).sum()\n",
    "    new_m=m-lr_rate*m_slope\n",
    "    return new_m\n",
    "        "
   ]
  },
  {
   "cell_type": "code",
   "execution_count": 3,
   "metadata": {},
   "outputs": [],
   "source": [
    "def grad(data,lr_rate,num_iters):\n",
    "    n=data.shape\n",
    "    m=np.zeros(n[1])\n",
    "    for i in range(num_iters):\n",
    "        m=step_grad(data,m,lr_rate)\n",
    "    return m"
   ]
  },
  {
   "cell_type": "code",
   "execution_count": 4,
   "metadata": {},
   "outputs": [],
   "source": [
    "def predict(data,m):\n",
    "    linear=np.dot(data,m[:6])+m[6]\n",
    "    y_pred=sigmoid(linear)\n",
    "    d=[1 if i>0.5 else 0 for i in y_pred]\n",
    "    return d\n",
    "    "
   ]
  },
  {
   "cell_type": "code",
   "execution_count": 9,
   "metadata": {},
   "outputs": [
    {
     "name": "stdout",
     "output_type": "stream",
     "text": [
      "   Pclass  Sex  SibSp  Parch    Fare  Embarked  Survived\n",
      "0       2    0      1      0  26.000         0         1\n",
      "1       3    1      0      0   8.050         0         0\n",
      "2       2    1      0      0  26.000         0         0\n",
      "3       3    0      0      4  21.075         0         0\n",
      "4       3    1      0      0   7.050         0         0\n",
      "\n",
      "\t Testing Data\n",
      "\n",
      "   Pclass  Sex  SibSp  Parch     Fare  Embarked\n",
      "0       2    1      1      1  36.7500         0\n",
      "1       1    0      0      0  25.9292         0\n",
      "2       3    1      0      0   7.7375         2\n",
      "3       2    0      2      1  27.0000         0\n",
      "4       1    1      0      0  26.2875         0\n",
      "\n",
      "Output \n",
      "\n",
      "0\n",
      "1\n",
      "0\n",
      "0\n",
      "0\n"
     ]
    }
   ],
   "source": [
    "import numpy as np\n",
    "import pandas as pd\n",
    "from sklearn.linear_model import LogisticRegression\n",
    "data=pd.read_csv(r'C:\\Users\\KUNAL\\Downloads\\training_titanic_x_y_train.csv')\n",
    "test=pd.read_csv(r'C:\\Users\\KUNAL\\Downloads\\test_titanic_x_test.csv')\n",
    "del test['Name']\n",
    "del test['Cabin']\n",
    "del test['Ticket']\n",
    "del(data['Name'])\n",
    "del(data['Cabin'])\n",
    "del data['Ticket']\n",
    "def f(s):\n",
    "    if s=='female':\n",
    "        return 0\n",
    "    else:\n",
    "        return 1\n",
    "def E(s):\n",
    "    if s=='S':\n",
    "        return 0\n",
    "    elif s=='C':\n",
    "        return 1\n",
    "    else:\n",
    "        return 2\n",
    "test['Sex']=test.Sex.apply(f)\n",
    "test['Embarked']=test.Embarked.apply(E)\n",
    "data['Sex']=data.Sex.apply(f)\n",
    "data['Embarked']=data.Embarked.apply(E)\n",
    "data.Age.fillna(data.Age.mean(),inplace=True)\n",
    "test.Age.fillna(test.Age.mean(),inplace=True)\n",
    "del test['Age']\n",
    "del data['Age']\n",
    "train=np.array(data)\n",
    "test_data=np.array(test)\n",
    "lr_rate=0.0001\n",
    "num_iters=200000\n",
    "m=grad(train,lr_rate,num_iters)\n",
    "print(data.head(5))\n",
    "print(\"\\n\\t Testing Data\\n\")\n",
    "print(test.head(5))\n",
    "y_pred=predict(test_data,m)\n",
    "print(\"\\nOutput \\n\")\n",
    "for i in range(5):\n",
    "    print(y_pred[i])\n",
    "np.savetxt('logistic6.csv',y_pred)\n",
    "\n",
    "\n",
    "\n"
   ]
  }
 ],
 "metadata": {
  "kernelspec": {
   "display_name": "Python 3",
   "language": "python",
   "name": "python3"
  },
  "language_info": {
   "codemirror_mode": {
    "name": "ipython",
    "version": 3
   },
   "file_extension": ".py",
   "mimetype": "text/x-python",
   "name": "python",
   "nbconvert_exporter": "python",
   "pygments_lexer": "ipython3",
   "version": "3.7.2"
  }
 },
 "nbformat": 4,
 "nbformat_minor": 4
}
